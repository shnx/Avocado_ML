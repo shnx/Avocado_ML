{
 "cells": [
  {
   "cell_type": "code",
   "execution_count": 1,
   "metadata": {},
   "outputs": [
    {
     "name": "stdout",
     "output_type": "stream",
     "text": [
      "Using matplotlib backend: Qt5Agg\n"
     ]
    }
   ],
   "source": [
    "import numpy as np\n",
    "import pandas as pd\n",
    "import matplotlib.pyplot as plt\n",
    "import seaborn as sns\n",
    "\n",
    "%matplotlib\n",
    "df= pd.read_csv(\"traindata.csv\")\n",
    "df[\"Date\"] = pd.to_datetime(df[\"Date\"]) \n",
    "\n",
    "# conventional avocado X regions X Year\n",
    "# filter out all conventional avocado (type = conventional)\n",
    "conventional_avo = df[df[\"type\"].isin(['conventional'])]\n",
    "# sort by average price\n",
    "conventional_avo = conventional_avo.sort_values(by='AveragePrice')\n",
    "# plot\n",
    "organic_avo = df[df[\"type\"].isin(['organic'])]\n",
    "# sort by average price\n",
    "organic_avo = organic_avo.sort_values(by='AveragePrice')\n",
    "\n",
    "dummy_type = pd.get_dummies(df['type'])\n",
    "# print sample\n",
    "dummy_type.sample(2)\n",
    "# concat\n",
    "df = pd.concat([df, dummy_type], axis=1)\n",
    "# print(df.sample(2))\n",
    "df['region'] = df['region'].astype('category')\n",
    "df.dtypes\n",
    "df['region'] = df['region'].cat.codes\n",
    "df['region'].sample(3)\n",
    "df['Date_Q'] = df['Date'].apply(lambda x: x.quarter)\n",
    "# set the size of the figure\n",
    "# plt.figure(figsize=(22,12))\n",
    "# set the title\n",
    "# plt.title(\"Correlation Matrix\")\n",
    "\n",
    "coe_col = ['AveragePrice', 'Total Volume', '4046', '4225', '4770', 'Total Bags', 'Small Bags', 'Large Bags', 'XLarge Bags', \n",
    "           'year', 'organic', 'conventional', 'Date_Q', 'region']\n",
    "cm = np.corrcoef(df[coe_col].values.T)\n",
    "sns.set(font_scale = 1.7)\n",
    "# ax = sns.heatmap(cm,cbar = True, annot = True,square = True, fmt = '.2f', annot_kws = {'size':15}, yticklabels = coe_col, \n",
    "#                  xticklabels = coe_col)"
   ]
  },
  {
   "cell_type": "code",
   "execution_count": 2,
   "metadata": {},
   "outputs": [
    {
     "name": "stdout",
     "output_type": "stream",
     "text": [
      "X Shape: (16325, 13)\n",
      "Y Shape: (16325,)\n",
      "Mean among dependencies of X v.s. Y 0.20760060413418027\n",
      "*  Total Volume 0.32099960026672214\n",
      "*  4046 0.3053367754425107\n",
      "*  4225 0.25109557588224174\n",
      "*  4770 0.21242663070414514\n",
      "*  Total Bags 0.28059688261266125\n",
      "*  Small Bags 0.22218195230935134\n",
      "Large Bags 0.19344987501794808\n",
      "XLarge Bags 0.10467647776271027\n",
      "*  conventional 0.23477419986711157\n",
      "*  organic 0.22467776628162595\n",
      "Date_Q 0.03400738234400569\n",
      "year 0.046554668878610705\n",
      "*  region 0.26803006637469906\n"
     ]
    }
   ],
   "source": [
    "# built regression function\n",
    "X_columns = ['Total Volume', '4046', '4225', '4770', 'Total Bags', 'Small Bags', 'Large Bags', 'XLarge Bags', 'conventional', 'organic', \n",
    "             'Date_Q', 'year', 'region']\n",
    "X = df[X_columns]\n",
    "Y = df['AveragePrice']\n",
    "\n",
    "print('X Shape:', X.shape)\n",
    "print('Y Shape:', Y.shape)\n",
    "from sklearn.model_selection import train_test_split\n",
    "X_train, X_test, y_train, y_test = train_test_split(X, Y, test_size=0.33, random_state=2019)\n",
    "from sklearn.feature_selection import mutual_info_regression\n",
    "dependencies = mutual_info_regression(X_train, y_train)\n",
    "column_list = list(X_train.columns)\n",
    "print('Mean among dependencies of X v.s. Y', np.mean(dependencies))\n",
    "\n",
    "for i in range(len(dependencies)):\n",
    "    if dependencies[i] > np.mean(dependencies):\n",
    "        \n",
    "        print('* ', column_list[i], dependencies[i])\n",
    "    else:\n",
    "        print(column_list[i], dependencies[i])\n"
   ]
  },
  {
   "cell_type": "code",
   "execution_count": null,
   "metadata": {},
   "outputs": [],
   "source": []
  },
  {
   "cell_type": "code",
   "execution_count": 3,
   "metadata": {},
   "outputs": [
    {
     "name": "stdout",
     "output_type": "stream",
     "text": [
      "X Shape: (16325, 13)\n",
      "Y Shape: (16325,)\n",
      "Mean among dependencies of X v.s. Y 0.20707884577410005\n",
      "*  Total Volume 0.32003128866620134\n",
      "*  4046 0.3059100979920837\n",
      "*  4225 0.2486786963749017\n",
      "*  4770 0.2083573758651487\n",
      "*  Total Bags 0.28093452517577333\n",
      "*  Small Bags 0.2218198230753865\n",
      "Large Bags 0.19417244552975976\n",
      "XLarge Bags 0.09907656133337062\n",
      "*  conventional 0.2310526751007771\n",
      "*  organic 0.23624486684439638\n",
      "Date_Q 0.03352599101886833\n",
      "year 0.04388716678747073\n",
      "*  region 0.26833348129916246\n"
     ]
    }
   ],
   "source": [
    "\n",
    "\n",
    "X_columns = ['Total Volume', '4046', '4225', '4770', 'Total Bags', 'Small Bags', 'Large Bags', 'XLarge Bags', 'conventional', 'organic', \n",
    "             'Date_Q', 'year', 'region']\n",
    "X = df[X_columns]\n",
    "Y = df['AveragePrice']\n",
    "selected_features =X_columns\n",
    "print('X Shape:', X.shape)\n",
    "print('Y Shape:', Y.shape)\n",
    "from sklearn.model_selection import train_test_split\n",
    "X_train, X_test, y_train, y_test = train_test_split(X, Y, test_size=0.33, random_state=2019)\n",
    "from sklearn.feature_selection import mutual_info_regression\n",
    "dependencies = mutual_info_regression(X_train, y_train)\n",
    "column_list = list(X_train.columns)\n",
    "print('Mean among dependencies of X v.s. Y', np.mean(dependencies))\n",
    "for i in range(len(dependencies)):\n",
    "    if dependencies[i] > np.mean(dependencies):\n",
    "        print('* ', column_list[i], dependencies[i])\n",
    "    else:\n",
    "        print(column_list[i], dependencies[i])\n",
    "        selected_features.remove(column_list[i])\n",
    "\n"
   ]
  },
  {
   "cell_type": "code",
   "execution_count": 5,
   "metadata": {},
   "outputs": [
    {
     "name": "stdout",
     "output_type": "stream",
     "text": [
      "                            OLS Regression Results                            \n",
      "==============================================================================\n",
      "Dep. Variable:           AveragePrice   R-squared:                       0.388\n",
      "Model:                            OLS   Adj. R-squared:                  0.387\n",
      "Method:                 Least Squares   F-statistic:                     865.8\n",
      "Date:                 Mo, 24 Jun 2019   Prob (F-statistic):               0.00\n",
      "Time:                        22:36:44   Log-Likelihood:                -3055.8\n",
      "No. Observations:               10937   AIC:                             6130.\n",
      "Df Residuals:                   10928   BIC:                             6195.\n",
      "Df Model:                           8                                         \n",
      "Covariance Type:            nonrobust                                         \n",
      "================================================================================\n",
      "                   coef    std err          t      P>|t|      [0.025      0.975]\n",
      "--------------------------------------------------------------------------------\n",
      "Total Volume -3.103e-05   7.47e-05     -0.415      0.678      -0.000       0.000\n",
      "4046          3.089e-05   7.47e-05      0.413      0.679      -0.000       0.000\n",
      "4225           3.11e-05   7.47e-05      0.416      0.677      -0.000       0.000\n",
      "4770          3.077e-05   7.47e-05      0.412      0.680      -0.000       0.000\n",
      "Total Bags    3.077e-05   7.47e-05      0.412      0.680      -0.000       0.000\n",
      "Small Bags    3.368e-07   5.95e-08      5.660      0.000     2.2e-07    4.53e-07\n",
      "conventional     1.1809      0.007    158.848      0.000       1.166       1.195\n",
      "organic          1.6471      0.007    241.121      0.000       1.634       1.660\n",
      "region           0.0006      0.000      2.994      0.003       0.000       0.001\n",
      "==============================================================================\n",
      "Omnibus:                      495.035   Durbin-Watson:                   1.993\n",
      "Prob(Omnibus):                  0.000   Jarque-Bera (JB):              732.817\n",
      "Skew:                           0.420   Prob(JB):                    7.43e-160\n",
      "Kurtosis:                       3.950   Cond. No.                     3.99e+06\n",
      "==============================================================================\n",
      "\n",
      "Warnings:\n",
      "[1] Standard Errors assume that the covariance matrix of the errors is correctly specified.\n",
      "[2] The condition number is large, 3.99e+06. This might indicate that there are\n",
      "strong multicollinearity or other numerical problems.\n",
      "-0.5362637235533119\n",
      "Model2 features 0.4070109080731409\n"
     ]
    }
   ],
   "source": [
    "X_train_sel = X_train[selected_features]\n",
    "X_test_sel=X_test[selected_features]\n",
    "import statsmodels.api as sm\n",
    "from sklearn.metrics import explained_variance_score\n",
    "model_2 = sm.OLS(y_train, X_train_sel)\n",
    "res_2 = model_2.fit()\n",
    "print(res_2.summary())\n",
    "\n",
    "predictions = res_2.predict(X_test_sel)\n",
    "print(explained_variance_score(predictions,y_test))\n",
    "\n",
    "\n",
    "# Calculate R-squared\n",
    "residuals = y_test - predictions\n",
    "RMSE = np.sqrt(np.mean(residuals**2))\n",
    "y_test_mean = np.mean(y_test)\n",
    "tss =  np.sum((y_test - y_test_mean)**2 ) # total sum of square\n",
    "rss =  np.sum(residuals**2) # sum of residuals\n",
    "rsq  =  1 - (rss/tss)\n",
    "print('Model2 features', rsq)\n"
   ]
  },
  {
   "cell_type": "code",
   "execution_count": null,
   "metadata": {},
   "outputs": [],
   "source": [
    "\n"
   ]
  }
 ],
 "metadata": {
  "kernelspec": {
   "display_name": "Python 3",
   "language": "python",
   "name": "python3"
  },
  "language_info": {
   "codemirror_mode": {
    "name": "ipython",
    "version": 3
   },
   "file_extension": ".py",
   "mimetype": "text/x-python",
   "name": "python",
   "nbconvert_exporter": "python",
   "pygments_lexer": "ipython3",
   "version": "3.7.3"
  }
 },
 "nbformat": 4,
 "nbformat_minor": 2
}
