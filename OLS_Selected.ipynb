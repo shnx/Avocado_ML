{
 "cells": [
  {
   "cell_type": "code",
   "execution_count": 1,
   "metadata": {},
   "outputs": [
    {
     "name": "stdout",
     "output_type": "stream",
     "text": [
      "Using matplotlib backend: Qt5Agg\n"
     ]
    }
   ],
   "source": [
    "import numpy as np\n",
    "import pandas as pd\n",
    "import matplotlib.pyplot as plt\n",
    "import seaborn as sns\n",
    "\n",
    "%matplotlib\n",
    "df= pd.read_csv(\"traindata.csv\")\n",
    "df[\"Date\"] = pd.to_datetime(df[\"Date\"]) \n",
    "\n",
    "# conventional avocado X regions X Year\n",
    "# filter out all conventional avocado (type = conventional)\n",
    "conventional_avo = df[df[\"type\"].isin(['conventional'])]\n",
    "# sort by average price\n",
    "conventional_avo = conventional_avo.sort_values(by='AveragePrice')\n",
    "# plot\n",
    "organic_avo = df[df[\"type\"].isin(['organic'])]\n",
    "# sort by average price\n",
    "organic_avo = organic_avo.sort_values(by='AveragePrice')\n",
    "\n",
    "dummy_type = pd.get_dummies(df['type'])\n",
    "# print sample\n",
    "dummy_type.sample(2)\n",
    "# concat\n",
    "df = pd.concat([df, dummy_type], axis=1)\n",
    "# print(df.sample(2))\n",
    "df['region'] = df['region'].astype('category')\n",
    "df.dtypes\n",
    "df['region'] = df['region'].cat.codes\n",
    "df['region'].sample(3)\n",
    "df['Date_Q'] = df['Date'].apply(lambda x: x.quarter)\n",
    "# set the size of the figure\n",
    "# plt.figure(figsize=(22,12))\n",
    "# set the title\n",
    "# plt.title(\"Correlation Matrix\")\n",
    "\n",
    "coe_col = ['AveragePrice', 'Total Volume', '4046', '4225', '4770', 'Total Bags', 'Small Bags', 'Large Bags', 'XLarge Bags', \n",
    "           'year', 'organic', 'conventional', 'Date_Q', 'region']\n",
    "cm = np.corrcoef(df[coe_col].values.T)\n",
    "sns.set(font_scale = 1.7)\n",
    "# ax = sns.heatmap(cm,cbar = True, annot = True,square = True, fmt = '.2f', annot_kws = {'size':15}, yticklabels = coe_col, \n",
    "#                  xticklabels = coe_col)"
   ]
  },
  {
   "cell_type": "code",
   "execution_count": 2,
   "metadata": {},
   "outputs": [
    {
     "name": "stdout",
     "output_type": "stream",
     "text": [
      "X Shape: (16325, 13)\n",
      "Y Shape: (16325,)\n",
      "                            OLS Regression Results                            \n",
      "==============================================================================\n",
      "Dep. Variable:           AveragePrice   R-squared:                       0.388\n",
      "Model:                            OLS   Adj. R-squared:                  0.388\n",
      "Method:                 Least Squares   F-statistic:                     1035.\n",
      "Date:                Mon, 24 Jun 2019   Prob (F-statistic):               0.00\n",
      "Time:                        22:37:13   Log-Likelihood:                -3183.9\n",
      "No. Observations:               11427   AIC:                             6384.\n",
      "Df Residuals:                   11419   BIC:                             6443.\n",
      "Df Model:                           7                                         \n",
      "Covariance Type:            nonrobust                                         \n",
      "================================================================================\n",
      "                   coef    std err          t      P>|t|      [0.025      0.975]\n",
      "--------------------------------------------------------------------------------\n",
      "Total Volume -3.577e-05   7.46e-05     -0.479      0.632      -0.000       0.000\n",
      "4046          3.562e-05   7.46e-05      0.477      0.633      -0.000       0.000\n",
      "4225          3.584e-05   7.46e-05      0.480      0.631      -0.000       0.000\n",
      "4770          3.547e-05   7.46e-05      0.475      0.634      -0.000       0.000\n",
      "Total Bags     3.55e-05   7.46e-05      0.476      0.634      -0.000       0.000\n",
      "Small Bags    3.443e-07   5.81e-08      5.929      0.000    2.31e-07    4.58e-07\n",
      "conventional     1.1973      0.005    231.522      0.000       1.187       1.207\n",
      "organic          1.6626      0.004    393.053      0.000       1.654       1.671\n",
      "==============================================================================\n",
      "Omnibus:                      524.696   Durbin-Watson:                   1.996\n",
      "Prob(Omnibus):                  0.000   Jarque-Bera (JB):              789.433\n",
      "Skew:                           0.419   Prob(JB):                    3.77e-172\n",
      "Kurtosis:                       3.977   Cond. No.                     2.37e+06\n",
      "==============================================================================\n",
      "\n",
      "Warnings:\n",
      "[1] Standard Errors assume that the covariance matrix of the errors is correctly specified.\n",
      "[2] The condition number is large, 2.37e+06. This might indicate that there are\n",
      "strong multicollinearity or other numerical problems.\n",
      "-0.5444162017409229\n",
      "Model2 Selected features 0.406315751616551\n"
     ]
    }
   ],
   "source": [
    "from sklearn.model_selection import train_test_split\n",
    "# split the dataframe to X and Y\n",
    "X_columns = ['Total Volume', '4046', '4225', '4770', 'Total Bags', 'Small Bags', 'Large Bags', 'XLarge Bags', 'conventional', 'organic', \n",
    "             'Date_Q', 'year', 'region']\n",
    "X = df[X_columns]\n",
    "Y = df['AveragePrice']\n",
    "\n",
    "print('X Shape:', X.shape)\n",
    "print('Y Shape:', Y.shape)\n",
    "X_train, X_test, y_train, y_test = train_test_split(X, Y, test_size=0.3, random_state=2019)\n",
    "\n",
    "selected_features = ['Total Volume', '4046', '4225', '4770', 'Total Bags', 'Small Bags', 'conventional', 'organic']\n",
    "X_train_sel = X_train[selected_features]\n",
    "X_test_sel=X_test[selected_features]\n",
    "# \n",
    "# \n",
    "import statsmodels.api as sm\n",
    "from sklearn.metrics import explained_variance_score\n",
    "# \n",
    "model_2 = sm.OLS(y_train, X_train_sel)\n",
    "res_2 = model_2.fit()\n",
    "print(res_2.summary())\n",
    "\n",
    "predictions = res_2.predict(X_test_sel)\n",
    "print(explained_variance_score(predictions,y_test))\n",
    "# Calculate R-squared\n",
    "residuals = y_test - predictions\n",
    "RMSE = np.sqrt(np.mean(residuals**2))\n",
    "y_test_mean = np.mean(y_test)\n",
    "tss =  np.sum((y_test - y_test_mean)**2 ) # total sum of square\n",
    "rss =  np.sum(residuals**2) # sum of residuals\n",
    "rsq =  1 - (rss/tss)\n",
    "print('Model2 Selected features', rsq)\n",
    "\n",
    "# built regression function\n",
    "\n"
   ]
  },
  {
   "cell_type": "code",
   "execution_count": null,
   "metadata": {},
   "outputs": [],
   "source": []
  },
  {
   "cell_type": "code",
   "execution_count": null,
   "metadata": {},
   "outputs": [],
   "source": []
  },
  {
   "cell_type": "code",
   "execution_count": null,
   "metadata": {},
   "outputs": [],
   "source": [
    "\n"
   ]
  }
 ],
 "metadata": {
  "kernelspec": {
   "display_name": "Python 3",
   "language": "python",
   "name": "python3"
  },
  "language_info": {
   "codemirror_mode": {
    "name": "ipython",
    "version": 3
   },
   "file_extension": ".py",
   "mimetype": "text/x-python",
   "name": "python",
   "nbconvert_exporter": "python",
   "pygments_lexer": "ipython3",
   "version": "3.7.3"
  }
 },
 "nbformat": 4,
 "nbformat_minor": 2
}
